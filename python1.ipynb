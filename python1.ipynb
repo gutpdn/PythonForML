{
  "nbformat": 4,
  "nbformat_minor": 0,
  "metadata": {
    "colab": {
      "name": "python1.ipynb",
      "provenance": [],
      "collapsed_sections": [],
      "include_colab_link": true
    },
    "kernelspec": {
      "name": "python3",
      "display_name": "Python 3"
    },
    "language_info": {
      "name": "python"
    }
  },
  "cells": [
    {
      "cell_type": "markdown",
      "metadata": {
        "id": "view-in-github",
        "colab_type": "text"
      },
      "source": [
        "<a href=\"https://colab.research.google.com/github/gutpdn/PythonForML/blob/main/python1.ipynb\" target=\"_parent\"><img src=\"https://colab.research.google.com/assets/colab-badge.svg\" alt=\"Open In Colab\"/></a>"
      ]
    },
    {
      "cell_type": "markdown",
      "metadata": {
        "id": "mxohAZmJdhZ8"
      },
      "source": [
        "# Python Basics (1)\n",
        "\n",
        "## Data Types\n",
        "\n",
        "### Basic Data Types\n",
        "* Number (Integer and Float)\n",
        "* String\n",
        "* Boolean\n",
        "\n",
        "###Collection Data Types\n",
        "* List\n",
        "* Dictionary\n",
        "* Set\n",
        "* Tuple\n",
        "\n",
        "Credit: [w3schools](https://www.w3schools.com/python/default.asp)\n",
        "\n"
      ]
    },
    {
      "cell_type": "markdown",
      "metadata": {
        "id": "guWAb_xteWjD"
      },
      "source": [
        "##Integer"
      ]
    },
    {
      "cell_type": "code",
      "metadata": {
        "colab": {
          "base_uri": "https://localhost:8080/"
        },
        "id": "3-2OI437ebId",
        "outputId": "ff791ad5-bf89-48b2-f3c2-e4276b311551"
      },
      "source": [
        "x1 = 1\n",
        "x2 = 1.0\n",
        "y = 2.3\n",
        "\n",
        "print(type(x1))\n",
        "print(type(x2))\n",
        "print(type(y))"
      ],
      "execution_count": null,
      "outputs": [
        {
          "output_type": "stream",
          "text": [
            "<class 'int'>\n",
            "<class 'float'>\n",
            "<class 'float'>\n"
          ],
          "name": "stdout"
        }
      ]
    },
    {
      "cell_type": "markdown",
      "metadata": {
        "id": "Z18DSxZPfT1l"
      },
      "source": [
        "Float can also be scientific numbers with an \"e\" to indicate the power of 10."
      ]
    },
    {
      "cell_type": "code",
      "metadata": {
        "colab": {
          "base_uri": "https://localhost:8080/"
        },
        "id": "-ORbx76QfVSw",
        "outputId": "51c2bb38-cb92-4d91-f252-ae5f58381e84"
      },
      "source": [
        "z = 3e3\n",
        "z2 = 3e-1\n",
        "\n",
        "print(z2)\n",
        "\n",
        "print(z)\n",
        "print(type(z))"
      ],
      "execution_count": null,
      "outputs": [
        {
          "output_type": "stream",
          "text": [
            "0.3\n",
            "3000.0\n",
            "<class 'float'>\n"
          ],
          "name": "stdout"
        }
      ]
    },
    {
      "cell_type": "markdown",
      "metadata": {
        "id": "BZwb7Nv_g4d2"
      },
      "source": [
        "###Python Arithmetic Operators\n",
        "\n",
        "Operator | Name \n",
        "---|---\n",
        "+|Addition\n",
        "-|Subtraction\n",
        "*|Multiplication\n",
        "/|Division\n",
        "%|Modulus\n",
        "**|Exponentiation\n",
        "//|Floor division\n"
      ]
    },
    {
      "cell_type": "code",
      "metadata": {
        "id": "E2q8Jg7khBWi"
      },
      "source": [
        "x = 5\n",
        "y = 2"
      ],
      "execution_count": null,
      "outputs": []
    },
    {
      "cell_type": "code",
      "metadata": {
        "colab": {
          "base_uri": "https://localhost:8080/"
        },
        "id": "7vCHjIOKiAb8",
        "outputId": "52d358df-e6ec-450c-ded9-e10054c4c4e7"
      },
      "source": [
        "x + y"
      ],
      "execution_count": null,
      "outputs": [
        {
          "output_type": "execute_result",
          "data": {
            "text/plain": [
              "7"
            ]
          },
          "metadata": {
            "tags": []
          },
          "execution_count": 4
        }
      ]
    },
    {
      "cell_type": "code",
      "metadata": {
        "colab": {
          "base_uri": "https://localhost:8080/"
        },
        "id": "TcRjH8u4iOcJ",
        "outputId": "16c82c03-5149-4f06-8b63-62baec64f0f8"
      },
      "source": [
        "x / y"
      ],
      "execution_count": null,
      "outputs": [
        {
          "output_type": "execute_result",
          "data": {
            "text/plain": [
              "2.5"
            ]
          },
          "metadata": {
            "tags": []
          },
          "execution_count": 5
        }
      ]
    },
    {
      "cell_type": "code",
      "metadata": {
        "colab": {
          "base_uri": "https://localhost:8080/"
        },
        "id": "lISSUkPpiVkQ",
        "outputId": "adc30ace-1f0a-4520-842f-7c9457cd4948"
      },
      "source": [
        "x % y"
      ],
      "execution_count": null,
      "outputs": [
        {
          "output_type": "execute_result",
          "data": {
            "text/plain": [
              "1"
            ]
          },
          "metadata": {
            "tags": []
          },
          "execution_count": 6
        }
      ]
    },
    {
      "cell_type": "code",
      "metadata": {
        "colab": {
          "base_uri": "https://localhost:8080/"
        },
        "id": "YGmh3jBBiWah",
        "outputId": "eea3d046-a10e-4bd0-8b36-4486bb75eb6e"
      },
      "source": [
        "x ** y"
      ],
      "execution_count": null,
      "outputs": [
        {
          "output_type": "execute_result",
          "data": {
            "text/plain": [
              "25"
            ]
          },
          "metadata": {
            "tags": []
          },
          "execution_count": 7
        }
      ]
    },
    {
      "cell_type": "code",
      "metadata": {
        "colab": {
          "base_uri": "https://localhost:8080/"
        },
        "id": "tyZaegNoicYt",
        "outputId": "832047e7-9a30-4eb0-ac44-5fba4b22dd10"
      },
      "source": [
        "x // y"
      ],
      "execution_count": null,
      "outputs": [
        {
          "output_type": "execute_result",
          "data": {
            "text/plain": [
              "2"
            ]
          },
          "metadata": {
            "tags": []
          },
          "execution_count": 8
        }
      ]
    },
    {
      "cell_type": "markdown",
      "metadata": {
        "id": "0brHZIATfxnl"
      },
      "source": [
        "##String\n",
        "Strings in python are surrounded by either single quotation marks, or double quotation marks.\n",
        "\n",
        "The String type in Python is called \"str\""
      ]
    },
    {
      "cell_type": "code",
      "metadata": {
        "colab": {
          "base_uri": "https://localhost:8080/"
        },
        "id": "CfY7lknLgd_u",
        "outputId": "8f6f160d-f478-4357-81d4-3a85e6f3ab2b"
      },
      "source": [
        "s1 = \"I love Python\"\n",
        "\n",
        "print(type(s1))\n",
        "print(s1)\n",
        "\n",
        "s2 = 'Hello world!'\n",
        "\n",
        "print(type(s2))"
      ],
      "execution_count": null,
      "outputs": [
        {
          "output_type": "stream",
          "text": [
            "<class 'str'>\n",
            "I love Python\n",
            "<class 'str'>\n"
          ],
          "name": "stdout"
        }
      ]
    },
    {
      "cell_type": "markdown",
      "metadata": {
        "id": "tpoXtvwLjrac"
      },
      "source": [
        "###Strings are Arrays\n",
        "**Important!!!** The first item in the sequence is number 0."
      ]
    },
    {
      "cell_type": "code",
      "metadata": {
        "colab": {
          "base_uri": "https://localhost:8080/"
        },
        "id": "dVTfkGxAj6Ur",
        "outputId": "a00765a8-3da5-4a74-9827-ae45ba88921d"
      },
      "source": [
        "print(s1[3])\n",
        "print(s1[7])"
      ],
      "execution_count": null,
      "outputs": [
        {
          "output_type": "stream",
          "text": [
            "o\n",
            "P\n"
          ],
          "name": "stdout"
        }
      ]
    },
    {
      "cell_type": "code",
      "metadata": {
        "colab": {
          "base_uri": "https://localhost:8080/",
          "height": 35
        },
        "id": "7ey2IiEzkMfu",
        "outputId": "c3236e7e-4edd-49f8-8c30-ae03f8133c1f"
      },
      "source": [
        "s1 = \"I love Python\"\n",
        "s1[3:6]\n",
        "s1[2:6]"
      ],
      "execution_count": null,
      "outputs": [
        {
          "output_type": "execute_result",
          "data": {
            "application/vnd.google.colaboratory.intrinsic+json": {
              "type": "string"
            },
            "text/plain": [
              "'love'"
            ]
          },
          "metadata": {
            "tags": []
          },
          "execution_count": 11
        }
      ]
    },
    {
      "cell_type": "code",
      "metadata": {
        "colab": {
          "base_uri": "https://localhost:8080/",
          "height": 35
        },
        "id": "rGSBQZPgkS-d",
        "outputId": "c15564b1-cc5c-4ac4-8e89-107ef8a47062"
      },
      "source": [
        "s1[-1]"
      ],
      "execution_count": null,
      "outputs": [
        {
          "output_type": "execute_result",
          "data": {
            "application/vnd.google.colaboratory.intrinsic+json": {
              "type": "string"
            },
            "text/plain": [
              "'n'"
            ]
          },
          "metadata": {
            "tags": []
          },
          "execution_count": 12
        }
      ]
    },
    {
      "cell_type": "code",
      "metadata": {
        "colab": {
          "base_uri": "https://localhost:8080/",
          "height": 35
        },
        "id": "sSDyOajVkVpO",
        "outputId": "4b33040e-722c-4ec2-a72f-7fa7e6224f22"
      },
      "source": [
        "s1[-7:-3]"
      ],
      "execution_count": null,
      "outputs": [
        {
          "output_type": "execute_result",
          "data": {
            "application/vnd.google.colaboratory.intrinsic+json": {
              "type": "string"
            },
            "text/plain": [
              "' Pyt'"
            ]
          },
          "metadata": {
            "tags": []
          },
          "execution_count": 13
        }
      ]
    },
    {
      "cell_type": "code",
      "metadata": {
        "colab": {
          "base_uri": "https://localhost:8080/",
          "height": 35
        },
        "id": "iOevVg5xkjP3",
        "outputId": "f1d3d734-affa-4e5c-ae77-abba233ace19"
      },
      "source": [
        "s2 = 'Hello world!'\n",
        "s2[4:-1]"
      ],
      "execution_count": null,
      "outputs": [
        {
          "output_type": "execute_result",
          "data": {
            "application/vnd.google.colaboratory.intrinsic+json": {
              "type": "string"
            },
            "text/plain": [
              "'o world'"
            ]
          },
          "metadata": {
            "tags": []
          },
          "execution_count": 14
        }
      ]
    },
    {
      "cell_type": "code",
      "metadata": {
        "colab": {
          "base_uri": "https://localhost:8080/",
          "height": 35
        },
        "id": "VpqRVbyEkjue",
        "outputId": "28b1713f-1a75-4b10-8f34-1a53d212c7e9"
      },
      "source": [
        "s2[:4]"
      ],
      "execution_count": null,
      "outputs": [
        {
          "output_type": "execute_result",
          "data": {
            "application/vnd.google.colaboratory.intrinsic+json": {
              "type": "string"
            },
            "text/plain": [
              "'Hell'"
            ]
          },
          "metadata": {
            "tags": []
          },
          "execution_count": 15
        }
      ]
    },
    {
      "cell_type": "code",
      "metadata": {
        "colab": {
          "base_uri": "https://localhost:8080/",
          "height": 35
        },
        "id": "23DWOmpnkrkL",
        "outputId": "2ad1f7a0-2a61-4fc7-df3c-7bf733127631"
      },
      "source": [
        "s2[:]"
      ],
      "execution_count": null,
      "outputs": [
        {
          "output_type": "execute_result",
          "data": {
            "application/vnd.google.colaboratory.intrinsic+json": {
              "type": "string"
            },
            "text/plain": [
              "'Hello world!'"
            ]
          },
          "metadata": {
            "tags": []
          },
          "execution_count": 16
        }
      ]
    },
    {
      "cell_type": "code",
      "metadata": {
        "colab": {
          "base_uri": "https://localhost:8080/"
        },
        "id": "uhERdH3plYEV",
        "outputId": "755cc7d7-56e1-431c-9c63-3e0670e064d7"
      },
      "source": [
        "# String length\n",
        "len(s2)"
      ],
      "execution_count": null,
      "outputs": [
        {
          "output_type": "execute_result",
          "data": {
            "text/plain": [
              "12"
            ]
          },
          "metadata": {
            "tags": []
          },
          "execution_count": 17
        }
      ]
    },
    {
      "cell_type": "code",
      "metadata": {
        "colab": {
          "base_uri": "https://localhost:8080/"
        },
        "id": "PpBsPUEaljNv",
        "outputId": "7eba98af-9fc3-43f9-8540-77613dd7941e"
      },
      "source": [
        "# Check String\n",
        "'world' in s2"
      ],
      "execution_count": null,
      "outputs": [
        {
          "output_type": "execute_result",
          "data": {
            "text/plain": [
              "True"
            ]
          },
          "metadata": {
            "tags": []
          },
          "execution_count": 18
        }
      ]
    },
    {
      "cell_type": "code",
      "metadata": {
        "colab": {
          "base_uri": "https://localhost:8080/",
          "height": 35
        },
        "id": "TpxjdaA5mBOJ",
        "outputId": "b045dfd6-f533-48c7-ec51-0be6cceb13df"
      },
      "source": [
        "# Concatenate Strings\n",
        "'Python' + ' ' + 'is cool!'"
      ],
      "execution_count": null,
      "outputs": [
        {
          "output_type": "execute_result",
          "data": {
            "application/vnd.google.colaboratory.intrinsic+json": {
              "type": "string"
            },
            "text/plain": [
              "'Python is cool!'"
            ]
          },
          "metadata": {
            "tags": []
          },
          "execution_count": 19
        }
      ]
    },
    {
      "cell_type": "code",
      "metadata": {
        "colab": {
          "base_uri": "https://localhost:8080/"
        },
        "id": "WT4jMpXeskEv",
        "outputId": "0676fc8b-c363-4e25-ca89-a9eb5aded571"
      },
      "source": [
        "1 + 1.3"
      ],
      "execution_count": null,
      "outputs": [
        {
          "output_type": "execute_result",
          "data": {
            "text/plain": [
              "2.3"
            ]
          },
          "metadata": {
            "tags": []
          },
          "execution_count": 20
        }
      ]
    },
    {
      "cell_type": "markdown",
      "metadata": {
        "id": "5PIOk3EYhHnH"
      },
      "source": [
        "**Exercise**\n",
        "\n",
        "Slicing String\n"
      ]
    },
    {
      "cell_type": "code",
      "metadata": {
        "id": "xAmuiWcGhLyF",
        "colab": {
          "base_uri": "https://localhost:8080/",
          "height": 35
        },
        "outputId": "896197ea-0d2f-450e-c4b8-f8b74c3f1117"
      },
      "source": [
        "# Given the string:\n",
        "s = 'django'\n",
        "\n",
        "# ใช้ indexing เพื่อ print out ให้ได้ผลดังต่อไปนี้:\n",
        "# 'd'"
      ],
      "execution_count": null,
      "outputs": [
        {
          "output_type": "execute_result",
          "data": {
            "application/vnd.google.colaboratory.intrinsic+json": {
              "type": "string"
            },
            "text/plain": [
              "'d'"
            ]
          },
          "metadata": {
            "tags": []
          },
          "execution_count": 15
        }
      ]
    },
    {
      "cell_type": "code",
      "metadata": {
        "id": "U1m4LhG5hXIc",
        "colab": {
          "base_uri": "https://localhost:8080/",
          "height": 35
        },
        "outputId": "5feb23ef-df59-425f-a77d-62afdc350a8a"
      },
      "source": [
        "# 'jan'"
      ],
      "execution_count": null,
      "outputs": [
        {
          "output_type": "execute_result",
          "data": {
            "application/vnd.google.colaboratory.intrinsic+json": {
              "type": "string"
            },
            "text/plain": [
              "'jan'"
            ]
          },
          "metadata": {
            "tags": []
          },
          "execution_count": 16
        }
      ]
    },
    {
      "cell_type": "code",
      "metadata": {
        "id": "j-BaDqrXhebO",
        "colab": {
          "base_uri": "https://localhost:8080/",
          "height": 35
        },
        "outputId": "32671a4e-ab88-47cc-b88a-c2615f37680b"
      },
      "source": [
        "# 'go'"
      ],
      "execution_count": null,
      "outputs": [
        {
          "output_type": "execute_result",
          "data": {
            "application/vnd.google.colaboratory.intrinsic+json": {
              "type": "string"
            },
            "text/plain": [
              "'go'"
            ]
          },
          "metadata": {
            "tags": []
          },
          "execution_count": 17
        }
      ]
    },
    {
      "cell_type": "markdown",
      "metadata": {
        "id": "8DRp7eJSk0uZ"
      },
      "source": [
        "###String Format\n",
        "We can combine strings and numbers by using the format() method."
      ]
    },
    {
      "cell_type": "code",
      "metadata": {
        "colab": {
          "base_uri": "https://localhost:8080/",
          "height": 35
        },
        "id": "I7fzY5xdmu6V",
        "outputId": "2663ea25-26a4-433d-8565-2d3c177fa109"
      },
      "source": [
        "name = 'Bundit'\n",
        "surname = 'Thanasopon'\n",
        "s3 = 'My name is {} {}'\n",
        "s3.format(name, surname)"
      ],
      "execution_count": null,
      "outputs": [
        {
          "output_type": "execute_result",
          "data": {
            "application/vnd.google.colaboratory.intrinsic+json": {
              "type": "string"
            },
            "text/plain": [
              "'My name is Bundit Thanasopon'"
            ]
          },
          "metadata": {
            "tags": []
          },
          "execution_count": 18
        }
      ]
    },
    {
      "cell_type": "code",
      "metadata": {
        "colab": {
          "base_uri": "https://localhost:8080/",
          "height": 35
        },
        "id": "C0RpIOu5nOmY",
        "outputId": "6a641284-bbad-4c2d-af91-b285dba52e8a"
      },
      "source": [
        "name = 'Bundit'\n",
        "nickname = 'Jack'\n",
        "s3 = 'My name is {} and my nickname is {}, and I am {}'\n",
        "s3.format(name, 'Jack', 36)\n",
        "\n",
        "'My name is {} and my nickname is {}, and I am {}'.format(name, 'Jack', 36)"
      ],
      "execution_count": null,
      "outputs": [
        {
          "output_type": "execute_result",
          "data": {
            "application/vnd.google.colaboratory.intrinsic+json": {
              "type": "string"
            },
            "text/plain": [
              "'My name is Bundit and my nickname is Jack, and I am 36'"
            ]
          },
          "metadata": {
            "tags": []
          },
          "execution_count": 19
        }
      ]
    },
    {
      "cell_type": "markdown",
      "metadata": {
        "id": "JwjlXQyvtKta"
      },
      "source": [
        "**Exercise**\n",
        "\n",
        "String Formatting"
      ]
    },
    {
      "cell_type": "code",
      "metadata": {
        "id": "LAoflk6ntPWG"
      },
      "source": [
        "language = 'Python'\n",
        "difficulty = 'easy'\n",
        "\n",
        "# Print out 'Python is very easy. I love Python!' using str.format()"
      ],
      "execution_count": null,
      "outputs": []
    },
    {
      "cell_type": "markdown",
      "metadata": {
        "id": "uaQA_QVOn2ZT"
      },
      "source": [
        "##Boolean\n",
        "\n",
        "Booleans represent one of two values: **True** or **False**.\n",
        "\n",
        "###Python Comparison Operators\n",
        "Operator|Name\n",
        "---|---\n",
        "==|Equal\n",
        "!=|Not equal\n",
        ">|Greater than\n",
        "<|Less than\n",
        ">=|Greater than or equal to\n",
        "<=|Less than or equal to\n",
        "\n",
        "###Python Logical Operators\n",
        "Operator|Name\n",
        "---|---\n",
        "and|Returns True if both statements are true\n",
        "or|Returns True if one of the statements is true\n",
        "not|Reverse the result, returns False if the result is true"
      ]
    },
    {
      "cell_type": "code",
      "metadata": {
        "colab": {
          "base_uri": "https://localhost:8080/"
        },
        "id": "i14O5yudpEp5",
        "outputId": "47a5ba05-8ab1-4429-b962-8a13e8743ee3"
      },
      "source": [
        "x = 10\n",
        "y = 6\n",
        "\n",
        "print('x == y: {}'.format(x == y))\n",
        "print('x > y: {}'.format(x > y))\n",
        "print('x < y: {}'.format(x < y))"
      ],
      "execution_count": null,
      "outputs": [
        {
          "output_type": "stream",
          "text": [
            "x == y: False\n",
            "x > y: True\n",
            "x < y: False\n"
          ],
          "name": "stdout"
        }
      ]
    },
    {
      "cell_type": "code",
      "metadata": {
        "colab": {
          "base_uri": "https://localhost:8080/"
        },
        "id": "OScy3oUTqU_q",
        "outputId": "88a10406-8e4a-4ed7-aef0-e59769684b23"
      },
      "source": [
        "z = 'Hello'\n",
        "print((x > y) and (z == 'Hello'))\n",
        "print(not ((x < y) and (z == 'Hello')))\n",
        "print((x > y) or (z == 'Hey'))"
      ],
      "execution_count": null,
      "outputs": [
        {
          "output_type": "stream",
          "text": [
            "True\n",
            "True\n",
            "True\n"
          ],
          "name": "stdout"
        }
      ]
    },
    {
      "cell_type": "code",
      "metadata": {
        "colab": {
          "base_uri": "https://localhost:8080/"
        },
        "id": "vheDxYE1wSpw",
        "outputId": "4f028508-81c6-43a6-9df2-7849ca53f5f7"
      },
      "source": [
        "if z == '':\n",
        "  print('Empty')\n",
        "else:\n",
        "  print('Yes')"
      ],
      "execution_count": null,
      "outputs": [
        {
          "output_type": "stream",
          "text": [
            "Yes\n"
          ],
          "name": "stdout"
        }
      ]
    },
    {
      "cell_type": "code",
      "metadata": {
        "colab": {
          "base_uri": "https://localhost:8080/"
        },
        "id": "BtGHYSDcwldZ",
        "outputId": "0c22cf0f-b5ba-47ee-e1e5-361596ac63a4"
      },
      "source": [
        "z = ''\n",
        "if z:\n",
        "  print('Yes')\n",
        "else:\n",
        "  print('Empty')"
      ],
      "execution_count": null,
      "outputs": [
        {
          "output_type": "stream",
          "text": [
            "Empty\n"
          ],
          "name": "stdout"
        },
        {
          "output_type": "execute_result",
          "data": {
            "text/plain": [
              "True"
            ]
          },
          "metadata": {
            "tags": []
          },
          "execution_count": 31
        }
      ]
    },
    {
      "cell_type": "code",
      "metadata": {
        "id": "i4bvkbFvtCDp"
      },
      "source": [
        "x = 1\n",
        "\n",
        "bool(x)"
      ],
      "execution_count": null,
      "outputs": []
    },
    {
      "cell_type": "markdown",
      "metadata": {
        "id": "jHvj7zfXqwm2"
      },
      "source": [
        "###Truthy and Falsy Values in Python\n",
        "In Python, individual values can evaluate to either True or False.\n",
        "* Values that evaluate to **False** are considered *Falsy*.\n",
        "* Values that evaluate to **True** are considered *Truthy*.\n"
      ]
    },
    {
      "cell_type": "markdown",
      "metadata": {
        "id": "2T7_TnJFrpyw"
      },
      "source": [
        "###Falsy Values\n",
        "\n",
        "**Sequences and Collections:**\n",
        "* Empty lists: []\n",
        "* Empty tuples: ()\n",
        "* Empty dictionaries: {}\n",
        "* Empty sets: set()\n",
        "* Empty strings: \"\"\n",
        "* Empty ranges: range(0)\n",
        "\n",
        "**Numbers**\n",
        "* Zero of any numeric type.\n",
        "* Integer: 0\n",
        "* Float: 0.0\n",
        "\n",
        "**Constants**\n",
        "* None\n",
        "* False\n",
        "\n",
        "\n",
        "###Truthy Values\n",
        "* Non-empty sequences or collections (lists, tuples, strings, dictionaries, sets).\n",
        "* Numeric values that are not zero.\n",
        "* True"
      ]
    },
    {
      "cell_type": "code",
      "metadata": {
        "colab": {
          "base_uri": "https://localhost:8080/"
        },
        "id": "XXh5i_hhsOkp",
        "outputId": "e321381b-2379-4f72-ea81-98350b9a962b"
      },
      "source": [
        "a = 0\n",
        "if a:\n",
        "  print('True')\n",
        "else:\n",
        "  print('False')"
      ],
      "execution_count": null,
      "outputs": [
        {
          "output_type": "stream",
          "text": [
            "False\n"
          ],
          "name": "stdout"
        }
      ]
    },
    {
      "cell_type": "code",
      "metadata": {
        "colab": {
          "base_uri": "https://localhost:8080/"
        },
        "id": "r8C92I04snnR",
        "outputId": "ff512468-c039-4aa5-80a6-1d421eabeae2"
      },
      "source": [
        "a = 1\n",
        "if a:\n",
        "  print('True')\n",
        "else:\n",
        "  print('False')"
      ],
      "execution_count": null,
      "outputs": [
        {
          "output_type": "stream",
          "text": [
            "True\n"
          ],
          "name": "stdout"
        }
      ]
    },
    {
      "cell_type": "code",
      "metadata": {
        "colab": {
          "base_uri": "https://localhost:8080/"
        },
        "id": "UE3YYgOhsxIx",
        "outputId": "5dfa28a2-f43b-4807-bd0e-b03929a73c67"
      },
      "source": [
        "a = \"\"\n",
        "if a:\n",
        "  print('True')\n",
        "else:\n",
        "  print('False')"
      ],
      "execution_count": null,
      "outputs": [
        {
          "output_type": "stream",
          "text": [
            "False\n"
          ],
          "name": "stdout"
        }
      ]
    },
    {
      "cell_type": "code",
      "metadata": {
        "colab": {
          "base_uri": "https://localhost:8080/"
        },
        "id": "v7qZtN4OszsD",
        "outputId": "05bde859-6571-4e7d-9ffa-a4d7123fb692"
      },
      "source": [
        "a = \"Not empty\"\n",
        "if a:\n",
        "  print('True')\n",
        "else:\n",
        "  print('False')"
      ],
      "execution_count": null,
      "outputs": [
        {
          "output_type": "stream",
          "text": [
            "True\n"
          ],
          "name": "stdout"
        }
      ]
    },
    {
      "cell_type": "markdown",
      "metadata": {
        "id": "l8Hc0_kmxea-"
      },
      "source": [
        "##If...Else\n",
        "###Python Conditions and If statements\n",
        "Python supports the usual logical conditions from mathematics:\n",
        "* Equals: a == b\n",
        "* Not Equals: a != b\n",
        "* Less than: a < b\n",
        "* Less than or equal to: a <= b\n",
        "* Greater than: a > b\n",
        "* Greater than or equal to: a >= b"
      ]
    },
    {
      "cell_type": "code",
      "metadata": {
        "colab": {
          "base_uri": "https://localhost:8080/"
        },
        "id": "7ic3JFAjxsvJ",
        "outputId": "0fa9cdea-5bcb-4d4e-bb0a-f432f7606936"
      },
      "source": [
        "# If statement\n",
        "\n",
        "a = 33\n",
        "b = 200\n",
        "if b > a and (b - a) > 100:\n",
        "  print(\"b is much greater than a\")\n",
        "else:\n",
        "  print('Else')\n",
        "\n",
        "# Elif statement\n",
        "a = 34\n",
        "b = 33\n",
        "if b > a:\n",
        "  print(\"b is greater than a\")\n",
        "elif a == b:\n",
        "  print(\"a and b are equal\")\n",
        "else:\n",
        "  print('A is more than B')\n",
        "\n",
        "# Else statement\n",
        "a = 200\n",
        "b = 33\n",
        "if b > a:\n",
        "  print(\"b is greater than a\")\n",
        "elif a == b:\n",
        "  print(\"a and b are equal\")\n",
        "else:\n",
        "  print(\"a is greater than b\")"
      ],
      "execution_count": null,
      "outputs": [
        {
          "output_type": "stream",
          "text": [
            "b is much greater than a\n",
            "A is more than B\n",
            "a is greater than b\n"
          ],
          "name": "stdout"
        }
      ]
    },
    {
      "cell_type": "markdown",
      "metadata": {
        "id": "sirp8wQwtTPs"
      },
      "source": [
        "##Lists\n",
        "\n",
        "Lists are used to store multiple items in a single variable.\n",
        "\n",
        "Lists are one of 4 built-in data types in Python used to store collections of data, the other 3 are Tuple, Set, and Dictionary, all with different qualities and usage."
      ]
    },
    {
      "cell_type": "code",
      "metadata": {
        "colab": {
          "base_uri": "https://localhost:8080/"
        },
        "id": "Ughbgea8t-QQ",
        "outputId": "c7f60850-c036-4b4c-a099-9a28db74b28c"
      },
      "source": [
        "mylist = [\"apple\", \"banana\", \"orange\", True, 10, [1, 2, 3]]\n",
        "\n",
        "print(mylist[0])\n",
        "print(mylist[1])\n",
        "print(mylist[-1])"
      ],
      "execution_count": null,
      "outputs": [
        {
          "output_type": "stream",
          "text": [
            "apple\n",
            "banana\n",
            "[1, 2, 3]\n"
          ],
          "name": "stdout"
        }
      ]
    },
    {
      "cell_type": "markdown",
      "metadata": {
        "id": "L7MchdujUL37"
      },
      "source": [
        "**Exercise**\n",
        "\n",
        "Accessing nested list"
      ]
    },
    {
      "cell_type": "code",
      "metadata": {
        "id": "7mTztV1uUTYv"
      },
      "source": [
        "ls = [3,7,[1,4,'hello']]\n",
        "\n",
        "# จงแก้ค่า hello เป็น goodbye\n",
        "# Your code here"
      ],
      "execution_count": null,
      "outputs": []
    },
    {
      "cell_type": "code",
      "metadata": {
        "id": "iFJR5IVb6809"
      },
      "source": [
        "lst = [1,2,[3,4],[5,[100,200,['hello']],23,11],1,7]\n",
        "\n",
        "# print ค่า hello ออกมาแสดง\n",
        "# Your code here"
      ],
      "execution_count": null,
      "outputs": []
    },
    {
      "cell_type": "markdown",
      "metadata": {
        "id": "N-Nv-eqT1zkL"
      },
      "source": [
        "###Modifying Lists\n",
        "\n"
      ]
    },
    {
      "cell_type": "code",
      "metadata": {
        "colab": {
          "base_uri": "https://localhost:8080/"
        },
        "id": "KrQzeHxd2JZN",
        "outputId": "5f8dfed6-005c-4b22-aff6-7e936807ad72"
      },
      "source": [
        "mylist = [\"apple\", \"banana\", \"orange\"]\n",
        "print(mylist)\n",
        "\n",
        "# Changing list items\n",
        "mylist[2] = \"watermalon\"\n",
        "print(mylist)\n",
        "print()\n",
        "newlist = mylist[1:3]\n",
        "print(newlist)\n",
        "print(mylist)\n",
        "print()\n",
        "mylist[1:3] = [\"strawberry\", \"pineapple\"]\n",
        "print(mylist)"
      ],
      "execution_count": null,
      "outputs": [
        {
          "output_type": "stream",
          "text": [
            "['apple', 'banana', 'orange']\n",
            "['apple', 'banana', 'watermalon']\n",
            "\n",
            "['banana', 'watermalon']\n",
            "['apple', 'banana', 'watermalon']\n",
            "\n",
            "['apple', 'strawberry', 'pineapple']\n"
          ],
          "name": "stdout"
        }
      ]
    },
    {
      "cell_type": "code",
      "metadata": {
        "colab": {
          "base_uri": "https://localhost:8080/"
        },
        "id": "wDZVGQnc6x6Y",
        "outputId": "12fe322e-aa56-4564-dae3-77801ddc35d3"
      },
      "source": [
        "mylist = [\"apple\", \"banana\", \"orange\"]\n",
        "# Adding new items\n",
        "mylist.insert(1, \"kiwi\")\n",
        "print(mylist)\n",
        "mylist.append(\"Durian\")\n",
        "print(mylist)"
      ],
      "execution_count": null,
      "outputs": [
        {
          "output_type": "stream",
          "text": [
            "['apple', 'kiwi', 'banana', 'orange']\n",
            "['apple', 'kiwi', 'banana', 'orange', 'Durian']\n"
          ],
          "name": "stdout"
        }
      ]
    },
    {
      "cell_type": "code",
      "metadata": {
        "colab": {
          "base_uri": "https://localhost:8080/"
        },
        "id": "3rZKXFiA2h0O",
        "outputId": "893f393e-8494-46ce-8a0b-2ee275c625d1"
      },
      "source": [
        "# Concatenate lists\n",
        "mylist1 = [1, 2, 3]\n",
        "mylist2 = [4, 5, 6]\n",
        "print(mylist1 + mylist2)"
      ],
      "execution_count": null,
      "outputs": [
        {
          "output_type": "stream",
          "text": [
            "[1, 2, 3, 4, 5, 6]\n"
          ],
          "name": "stdout"
        }
      ]
    },
    {
      "cell_type": "code",
      "metadata": {
        "colab": {
          "base_uri": "https://localhost:8080/"
        },
        "id": "SurP8kD863Gn",
        "outputId": "5ac0143e-fb7e-4c18-c66a-b96fb75f319d"
      },
      "source": [
        "mylist = ['apple', 'kiwi', 'strawberry', 'pineapple', 'Durian']\n",
        "# Removing items\n",
        "mylist.remove('kiwi')\n",
        "print(mylist)\n",
        "# The pop() method removes the specified index.\n",
        "mylist.pop(1)\n",
        "print(mylist)\n",
        "# If you do not specify the index, the pop() method removes the last item.\n",
        "mylist.pop()\n",
        "print(mylist)"
      ],
      "execution_count": null,
      "outputs": [
        {
          "output_type": "stream",
          "text": [
            "['apple', 'strawberry', 'pineapple', 'Durian']\n",
            "['apple', 'pineapple', 'Durian']\n",
            "['apple', 'pineapple']\n"
          ],
          "name": "stdout"
        }
      ]
    },
    {
      "cell_type": "markdown",
      "metadata": {
        "id": "vdoVlAF-8Knt"
      },
      "source": [
        "###Looping Lists"
      ]
    },
    {
      "cell_type": "code",
      "metadata": {
        "colab": {
          "base_uri": "https://localhost:8080/"
        },
        "id": "cThbsH5e8R1P",
        "outputId": "07afa5fe-07cd-4849-dca8-905ea300aafc"
      },
      "source": [
        "mylist = ['apple', 'kiwi', 'strawberry', 'pineapple', 'Durian']\n",
        "\n",
        "index = 1\n",
        "for fruit in mylist:\n",
        "  print('{}. {}'.format(index, fruit))\n",
        "  index += 1\n"
      ],
      "execution_count": null,
      "outputs": [
        {
          "output_type": "stream",
          "text": [
            "1. apple\n",
            "2. kiwi\n",
            "3. strawberry\n",
            "4. pineapple\n",
            "5. Durian\n"
          ],
          "name": "stdout"
        }
      ]
    },
    {
      "cell_type": "code",
      "metadata": {
        "colab": {
          "base_uri": "https://localhost:8080/"
        },
        "id": "w5gYQZ6eYrDg",
        "outputId": "4742d647-dc9f-49e4-9b76-ee45a8efcfd7"
      },
      "source": [
        "mylist = ['apple', 'kiwi', 'strawberry', 'pineapple', 'Durian']\n",
        "\n",
        "i = 0\n",
        "while i < 3:\n",
        "  print(mylist[i])\n",
        "  i = i + 1\n"
      ],
      "execution_count": null,
      "outputs": [
        {
          "output_type": "stream",
          "text": [
            "apple\n",
            "kiwi\n",
            "strawberry\n"
          ],
          "name": "stdout"
        }
      ]
    },
    {
      "cell_type": "markdown",
      "metadata": {
        "id": "VtRibWoIY2RI"
      },
      "source": [
        "###List Comprehension"
      ]
    },
    {
      "cell_type": "code",
      "metadata": {
        "colab": {
          "base_uri": "https://localhost:8080/"
        },
        "id": "rQkt12AYY1Gb",
        "outputId": "ccf4e970-3a66-4b4e-b239-0584f8fc25f6"
      },
      "source": [
        "mylist = [2,5,6,7,4]\n",
        "\n",
        "index = 0\n",
        "for num in mylist:\n",
        "  mylist[index] = num * 2\n",
        "  index += 1\n",
        "\n",
        "print(mylist)\n",
        "\n",
        "mylist = [2,5,6,7,4]\n",
        "newlist = []\n",
        "for num in mylist:\n",
        "  newlist.append(num * 2)\n",
        "\n",
        "print(newlist)\n",
        "print('--List Complehension--')\n",
        "newlist = [(num * 2) + 3 for num in mylist]\n",
        "print(newlist)"
      ],
      "execution_count": null,
      "outputs": [
        {
          "output_type": "stream",
          "text": [
            "[4, 10, 12, 14, 8]\n",
            "[4, 10, 12, 14, 8]\n",
            "--List Complehension--\n",
            "[7, 13, 15, 17, 11]\n"
          ],
          "name": "stdout"
        }
      ]
    },
    {
      "cell_type": "markdown",
      "metadata": {
        "id": "eoBzx61XgOZh"
      },
      "source": [
        "**Exercise**\n",
        "\n",
        "สร้าง list ใหม่ที่มีสมาชิกเป็นขนาดของ String แต่ละตัวใน list \"mylist\""
      ]
    },
    {
      "cell_type": "code",
      "metadata": {
        "colab": {
          "base_uri": "https://localhost:8080/"
        },
        "id": "wgcprKAKgRuq",
        "outputId": "9b61374e-2076-48db-9b52-3075294c47cf"
      },
      "source": [
        "mylist = ['apple', 'kiwi', 'strawberry', 'pineapple', 'Durian']\n",
        "\n",
        "# Put your code here\n",
        "lenlist = []\n",
        "\n",
        "print(lenlist)\n",
        "# [5, 4, 10, 9, 6]"
      ],
      "execution_count": null,
      "outputs": [
        {
          "output_type": "stream",
          "text": [
            "[]\n"
          ],
          "name": "stdout"
        }
      ]
    },
    {
      "cell_type": "markdown",
      "metadata": {
        "id": "SfT29EfKTJaJ"
      },
      "source": [
        "##Tuples\n",
        "\n",
        "Lists are used to store multiple items in a single variable.\n",
        "\n",
        "A tuple is a collection which is **ordered** and **unchangeable**.\n",
        "\n",
        "\n",
        "*   **ordered** - When we say that tuples are ordered, it means that the items have a defined order, and that order will not change.\n",
        "*   **unchangeable** - Tuples are unchangeable, meaning that we cannot change, add or remove items after the tuple has been created.\n",
        "\n"
      ]
    },
    {
      "cell_type": "code",
      "metadata": {
        "colab": {
          "base_uri": "https://localhost:8080/"
        },
        "id": "Kt452welTgPA",
        "outputId": "2b2d2d05-c3af-4b76-c8bd-f8eb70717a65"
      },
      "source": [
        "mytuple = ('apple', 'kiwi', 'strawberry', 'pineapple', 'Durian')\n",
        "\n",
        "print(mytuple)\n",
        "\n",
        "print(mytuple[0])\n",
        "\n",
        "print(mytuple[1:3])"
      ],
      "execution_count": null,
      "outputs": [
        {
          "output_type": "stream",
          "text": [
            "('apple', 'kiwi', 'strawberry', 'pineapple', 'Durian')\n",
            "apple\n",
            "('kiwi', 'strawberry')\n"
          ],
          "name": "stdout"
        }
      ]
    },
    {
      "cell_type": "markdown",
      "metadata": {
        "id": "W8C7dAI6VwVZ"
      },
      "source": [
        "###Unchangeable\n",
        "You cannot **change, add, or remove** items once the tuple is created.\n"
      ]
    },
    {
      "cell_type": "code",
      "metadata": {
        "colab": {
          "base_uri": "https://localhost:8080/"
        },
        "id": "bw1QT77yVxma",
        "outputId": "ac41e22b-8b51-487b-ed97-7319438c10f7"
      },
      "source": [
        "mylist = list(mytuple)\n",
        "mylist[0] = \"orange\"\n",
        "print(mylist)\n",
        "# mytuple[0] = \"orange\"\n"
      ],
      "execution_count": null,
      "outputs": [
        {
          "output_type": "stream",
          "text": [
            "['orange', 'kiwi', 'strawberry', 'pineapple', 'Durian']\n"
          ],
          "name": "stdout"
        }
      ]
    },
    {
      "cell_type": "markdown",
      "metadata": {
        "id": "uvbZeeQ2WWHx"
      },
      "source": [
        "##Sets\n",
        "A set is a collection which is both **unordered**, **unchangeable**, and **do not allow duplicate** values.\n",
        "\n",
        "Sets are written with curly brackets.\n",
        "\n",
        "\n",
        "*Note: Sets are unordered, so you cannot be sure in which order the items will appear.*"
      ]
    },
    {
      "cell_type": "code",
      "metadata": {
        "colab": {
          "base_uri": "https://localhost:8080/"
        },
        "id": "OH_fl6iXWn8C",
        "outputId": "ab2fc912-74a1-4455-fc2c-1dcd3a15b940"
      },
      "source": [
        "myset = {\"apple\", \"apple\", \"cherry\", \"pineapple\"}\n",
        "\n",
        "# You cannot access items in a set by referring to an index or a key.\n",
        "# But you can loop through the set items using a \"for loop\".\n",
        "\n",
        "for x in myset:\n",
        "  print(x)\n",
        "\n",
        "print(myset)"
      ],
      "execution_count": null,
      "outputs": [
        {
          "output_type": "stream",
          "text": [
            "apple\n",
            "pineapple\n",
            "cherry\n",
            "{'apple', 'pineapple', 'cherry'}\n"
          ],
          "name": "stdout"
        }
      ]
    },
    {
      "cell_type": "code",
      "metadata": {
        "colab": {
          "base_uri": "https://localhost:8080/"
        },
        "id": "1Owe4SWfYg0y",
        "outputId": "48272665-7078-4abd-c29b-dcc190fa285d"
      },
      "source": [
        "# Or ask if a specified value is present in a set, by using the \"in\" keyword.\n",
        "\n",
        "print(\"apple\" in myset)\n",
        "\n",
        "print(\"orange\" in myset)"
      ],
      "execution_count": null,
      "outputs": [
        {
          "output_type": "stream",
          "text": [
            "True\n",
            "False\n"
          ],
          "name": "stdout"
        }
      ]
    },
    {
      "cell_type": "markdown",
      "metadata": {
        "id": "hh7yT2t2Xbiu"
      },
      "source": [
        "###Unchangeable\n",
        "\n",
        "Once a set is created, you cannot change its items, but you can add new items."
      ]
    },
    {
      "cell_type": "code",
      "metadata": {
        "colab": {
          "base_uri": "https://localhost:8080/"
        },
        "id": "2vlCudeVYDCD",
        "outputId": "d78b0139-e409-4741-ba8e-17ba77806fdc"
      },
      "source": [
        "myset = {\"apple\", \"banana\", \"cherry\", \"pineapple\"}\n",
        "\n",
        "# Adding new item to sets\n",
        "myset.add(\"orange\")\n",
        "\n",
        "print(myset)\n",
        "\n",
        "# To add items from another set into the current set, use the update() method.\n",
        "myset.update({\"kiwi\", \"coconut\"})\n",
        "\n",
        "print(myset)\n",
        "\n",
        "myset.update([\"strawberry\", \"blueberry\"])\n",
        "\n",
        "print(myset)\n",
        "\n",
        "# Add items that already exist in the set\n",
        "myset.add(\"kiwi\")\n",
        "\n",
        "print(myset)\n",
        "\n",
        "#removing item from set\n",
        "myset.remove(\"kiwi\")\n",
        "\n",
        "print(myset)"
      ],
      "execution_count": null,
      "outputs": [
        {
          "output_type": "stream",
          "text": [
            "{'orange', 'cherry', 'pineapple', 'apple', 'banana'}\n",
            "{'orange', 'coconut', 'cherry', 'pineapple', 'apple', 'kiwi', 'banana'}\n",
            "{'orange', 'coconut', 'cherry', 'strawberry', 'pineapple', 'apple', 'kiwi', 'banana', 'blueberry'}\n",
            "{'orange', 'coconut', 'cherry', 'strawberry', 'pineapple', 'apple', 'kiwi', 'banana', 'blueberry'}\n",
            "{'orange', 'coconut', 'cherry', 'strawberry', 'pineapple', 'apple', 'banana', 'blueberry'}\n"
          ],
          "name": "stdout"
        }
      ]
    },
    {
      "cell_type": "markdown",
      "metadata": {
        "id": "0VzEIQrIZx3g"
      },
      "source": [
        "##Joining Two Sets\n",
        "There are several ways to join two or more sets in Python.\n",
        "\n",
        "You can use the **union()** method that returns a new set containing all items from both sets, or the **update()** method that inserts all the items from one set into another."
      ]
    },
    {
      "cell_type": "code",
      "metadata": {
        "colab": {
          "base_uri": "https://localhost:8080/"
        },
        "id": "a5Olie-ZZzVR",
        "outputId": "d1d89a2a-7488-442a-c7ac-3e8377e82442"
      },
      "source": [
        "set1 = {\"a\", \"b\" , \"c\"}\n",
        "set2 = {1, 2, 3, \"a\"}\n",
        "\n",
        "set3 = set1.union(set2)\n",
        "print(set3)\n",
        "\n",
        "set4 = set1.intersection(set2)\n",
        "print(set4)"
      ],
      "execution_count": null,
      "outputs": [
        {
          "output_type": "stream",
          "text": [
            "{1, 'c', 2, 3, 'a', 'b'}\n",
            "{'a'}\n"
          ],
          "name": "stdout"
        }
      ]
    },
    {
      "cell_type": "markdown",
      "metadata": {
        "id": "vCJcJ_MooCh3"
      },
      "source": [
        "##Dictionaries\n",
        "\n",
        "Dictionaries are used to store data values in key:value pairs.\n",
        "\n",
        "A dictionary is a collection which is **ordered, changeable and does not allow duplicates**."
      ]
    },
    {
      "cell_type": "code",
      "metadata": {
        "colab": {
          "base_uri": "https://localhost:8080/"
        },
        "id": "ku1Wn4yxoSR1",
        "outputId": "ac41cc08-c2d8-4d0a-bd8a-5e1b62e67e58"
      },
      "source": [
        "mydict = {\n",
        "  \"name\": {\"firstname\": \"Bundit\", \"lastname\": \"Thanasopon\"},\n",
        "  \"nickname\": \"Jack\",\n",
        "  \"fav_color\": [\"red\", \"blue\", \"yellow\"],\n",
        "  \"age\": 35\n",
        "}\n",
        "print(mydict[\"name\"])\n",
        "\n",
        "print(mydict[\"name\"][\"firstname\"])\n",
        "\n",
        "print(mydict[\"fav_color\"][0])"
      ],
      "execution_count": null,
      "outputs": [
        {
          "output_type": "stream",
          "text": [
            "{'firstname': 'Bundit', 'lastname': 'Thanasopon'}\n",
            "Bundit\n",
            "red\n"
          ],
          "name": "stdout"
        }
      ]
    },
    {
      "cell_type": "code",
      "metadata": {
        "colab": {
          "base_uri": "https://localhost:8080/"
        },
        "id": "P-HJdWKMpmKM",
        "outputId": "250cd8eb-cf03-4760-d777-636eb4d5c43a"
      },
      "source": [
        "# Get the list of keys\n",
        "print(mydict.keys())\n",
        "print('-------------------')\n",
        "print('Keys:')\n",
        "for key in mydict.keys():\n",
        "  print(key)\n",
        "print('-------------------')\n",
        "print(mydict.values())\n",
        "print('Values:')\n",
        "for value in mydict.values():\n",
        "  print(value)"
      ],
      "execution_count": null,
      "outputs": [
        {
          "output_type": "stream",
          "text": [
            "dict_keys(['name', 'nickname', 'fav_color', 'age'])\n",
            "-------------------\n",
            "Keys:\n",
            "name\n",
            "nickname\n",
            "fav_color\n",
            "age\n",
            "-------------------\n",
            "dict_values([{'firstname': 'Bundit', 'lastname': 'Thanasopon'}, 'Jack', ['red', 'blue', 'yellow'], 35])\n",
            "Values:\n",
            "{'firstname': 'Bundit', 'lastname': 'Thanasopon'}\n",
            "Jack\n",
            "['red', 'blue', 'yellow']\n",
            "35\n"
          ],
          "name": "stdout"
        }
      ]
    },
    {
      "cell_type": "code",
      "metadata": {
        "colab": {
          "base_uri": "https://localhost:8080/"
        },
        "id": "90gQoyVHo4cx",
        "outputId": "6e82a992-1e3e-400d-f7e1-fe6a5e414179"
      },
      "source": [
        "# Dictionaries cannot have two items with the same key\n",
        "mydict = {\n",
        "  \"firstname\": \"Bundit\",\n",
        "  \"lastname\": \"Thanasopon\",\n",
        "  \"nickname\": \"Jack\",\n",
        "  \"fav_color\": [\"red\", \"blue\", \"yellow\"],\n",
        "  \"age\": 35,\n",
        "  \"age\": 30\n",
        "}\n",
        "\n",
        "print(mydict)"
      ],
      "execution_count": null,
      "outputs": [
        {
          "output_type": "stream",
          "text": [
            "{'age': 30,\n",
            " 'fav_color': ['red', 'blue', 'yellow'],\n",
            " 'firstname': 'Bundit',\n",
            " 'lastname': 'Thanasopon',\n",
            " 'nickname': 'Jack'}\n"
          ],
          "name": "stdout"
        }
      ]
    },
    {
      "cell_type": "code",
      "metadata": {
        "colab": {
          "base_uri": "https://localhost:8080/"
        },
        "id": "13bUrlBXqL1s",
        "outputId": "cdc77ec4-eb38-4bd3-e255-9a521ede061d"
      },
      "source": [
        "# Change Values\n",
        "mydict = {\n",
        "  \"firstname\": \"Bundit\",\n",
        "  \"lastname\": \"Thanasopon\",\n",
        "  \"nickname\": \"Jack\",\n",
        "  \"fav_color\": [\"red\", \"blue\", \"yellow\"],\n",
        "  \"age\": 35\n",
        "}\n",
        "\n",
        "mydict[\"nickname\"] = \"J\"\n",
        "\n",
        "print(mydict)"
      ],
      "execution_count": null,
      "outputs": [
        {
          "output_type": "stream",
          "text": [
            "{'age': 35,\n",
            " 'fav_color': ['red', 'blue', 'yellow'],\n",
            " 'firstname': 'Bundit',\n",
            " 'lastname': 'Thanasopon',\n",
            " 'nickname': 'J'}\n"
          ],
          "name": "stdout"
        }
      ]
    },
    {
      "cell_type": "code",
      "metadata": {
        "colab": {
          "base_uri": "https://localhost:8080/"
        },
        "id": "M958ZWD_q16I",
        "outputId": "5d6b9e1d-284e-4dc2-e1c8-7d9c284d57b9"
      },
      "source": [
        "# Add a key-value pair\n",
        "mydict = {\n",
        "  \"firstname\": \"Bundit\",\n",
        "  \"lastname\": \"Thanasopon\",\n",
        "  \"nickname\": \"Jack\",\n",
        "  \"fav_color\": [\"red\", \"blue\", \"yellow\"],\n",
        "  \"age\": 35\n",
        "}\n",
        "\n",
        "mydict[\"nationality\"] = \"Thai\"\n",
        "\n",
        "print(mydict)"
      ],
      "execution_count": null,
      "outputs": [
        {
          "output_type": "stream",
          "text": [
            "{'age': 35,\n",
            " 'fav_color': ['red', 'blue', 'yellow'],\n",
            " 'firstname': 'Bundit',\n",
            " 'lastname': 'Thanasopon',\n",
            " 'nationality': 'Thai',\n",
            " 'nickname': 'Jack'}\n"
          ],
          "name": "stdout"
        }
      ]
    },
    {
      "cell_type": "code",
      "metadata": {
        "colab": {
          "base_uri": "https://localhost:8080/"
        },
        "id": "FG9CTY2wrIrx",
        "outputId": "1d7c627e-a364-4cf3-d341-9fa9610148cb"
      },
      "source": [
        "# Remove a key-value pair\n",
        "mydict = {\n",
        "  \"firstname\": \"Bundit\",\n",
        "  \"lastname\": \"Thanasopon\",\n",
        "  \"nickname\": \"Jack\",\n",
        "  \"fav_color\": [\"red\", \"blue\", \"yellow\"],\n",
        "  \"age\": 35\n",
        "}\n",
        "\n",
        "a = mydict.pop('age')\n",
        "b = mydict.pop('fav_color')\n",
        "\n",
        "print(mydict)\n",
        "\n",
        "print(a)\n",
        "print(b)"
      ],
      "execution_count": null,
      "outputs": [
        {
          "output_type": "stream",
          "text": [
            "{'firstname': 'Bundit', 'lastname': 'Thanasopon', 'nickname': 'Jack'}\n",
            "35\n",
            "['red', 'blue', 'yellow']\n"
          ],
          "name": "stdout"
        }
      ]
    },
    {
      "cell_type": "markdown",
      "metadata": {
        "id": "Mc2O4vZkrgir"
      },
      "source": [
        "###Loop Through a Dictionary\n",
        "You can loop through a dictionary by using a for loop."
      ]
    },
    {
      "cell_type": "code",
      "metadata": {
        "colab": {
          "base_uri": "https://localhost:8080/"
        },
        "id": "iwaHYnV5rqXI",
        "outputId": "d3ff8fbc-1ad0-4d38-9ddf-a60f586ac410"
      },
      "source": [
        "mydict = {\n",
        "  \"firstname\": \"Bundit\",\n",
        "  \"lastname\": \"Thanasopon\",\n",
        "  \"nickname\": \"Jack\",\n",
        "  \"fav_color\": [\"red\", \"blue\", \"yellow\"],\n",
        "  \"age\": 35\n",
        "}\n",
        "\n",
        "print(mydict.items())\n",
        "\n",
        "a, b, c = ('First', 'Second', 'Third')\n",
        "print(a)\n",
        "print(b)\n",
        "print(c)\n",
        "print('--------')\n",
        "\n",
        "for x, y in mydict.items():\n",
        "  print(x, '->', y)"
      ],
      "execution_count": null,
      "outputs": [
        {
          "output_type": "stream",
          "text": [
            "dict_items([('firstname', 'Bundit'), ('lastname', 'Thanasopon'), ('nickname', 'Jack'), ('fav_color', ['red', 'blue', 'yellow']), ('age', 35)])\n",
            "First\n",
            "Second\n",
            "Third\n",
            "--------\n",
            "firstname -> Bundit\n",
            "lastname -> Thanasopon\n",
            "nickname -> Jack\n",
            "fav_color -> ['red', 'blue', 'yellow']\n",
            "age -> 35\n"
          ],
          "name": "stdout"
        }
      ]
    },
    {
      "cell_type": "markdown",
      "metadata": {
        "id": "TAGAYl2hsAuu"
      },
      "source": [
        "**Exercises**\n",
        "\n",
        "จง print ค่า 'hello' ออกมาจาก dictionary ด้านล่าง:"
      ]
    },
    {
      "cell_type": "code",
      "metadata": {
        "id": "g44bgnB-sMkp"
      },
      "source": [
        "d1 = {'simple_key':'hello'}\n",
        "\n",
        "d2 = {'k1':{'k2':'hello'}}\n",
        "\n",
        "d3 = {'k1':[{'nest_key':['this is deep',['hello']]}]}\n",
        "\n",
        "d4 = {'k1':[1,2,3,{'tricky':['oh','man','inception',{'target':[1,2,3,'hello']}]}]}\n",
        "\n",
        "# Your code here."
      ],
      "execution_count": null,
      "outputs": []
    },
    {
      "cell_type": "markdown",
      "metadata": {
        "id": "8Hlit6MdbO8p"
      },
      "source": [
        "## Looping through range()\n"
      ]
    },
    {
      "cell_type": "code",
      "metadata": {
        "colab": {
          "base_uri": "https://localhost:8080/"
        },
        "id": "lwNeHSFFbTjH",
        "outputId": "c2f11015-bec2-4947-e472-e41de9b39dca"
      },
      "source": [
        "print(range(5))"
      ],
      "execution_count": null,
      "outputs": [
        {
          "output_type": "stream",
          "text": [
            "range(0, 5)\n"
          ],
          "name": "stdout"
        }
      ]
    },
    {
      "cell_type": "code",
      "metadata": {
        "colab": {
          "base_uri": "https://localhost:8080/"
        },
        "id": "99e26PsubXQx",
        "outputId": "bc471fde-98af-4717-acc0-55b7752965e3"
      },
      "source": [
        "for i in range(1,5):\n",
        "  print(i)"
      ],
      "execution_count": null,
      "outputs": [
        {
          "output_type": "stream",
          "text": [
            "1\n",
            "2\n",
            "3\n",
            "4\n"
          ],
          "name": "stdout"
        }
      ]
    },
    {
      "cell_type": "code",
      "metadata": {
        "colab": {
          "base_uri": "https://localhost:8080/"
        },
        "id": "SaQoOofNbbhP",
        "outputId": "4dadc85a-6439-45df-9012-bf6a75528986"
      },
      "source": [
        "mylist = ['apple', 'orange', 'banana']\n",
        "\n",
        "for i in range(len(mylist)):\n",
        "  print(mylist[i])"
      ],
      "execution_count": null,
      "outputs": [
        {
          "output_type": "stream",
          "text": [
            "apple\n",
            "orange\n",
            "banana\n"
          ],
          "name": "stdout"
        }
      ]
    }
  ]
}